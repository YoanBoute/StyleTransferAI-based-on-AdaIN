{
 "cells": [
  {
   "cell_type": "code",
   "execution_count": 1,
   "metadata": {},
   "outputs": [],
   "source": [
    "from pathlib import Path\n",
    "\n",
    "from adain_model import AdaINModel\n",
    "from adain_datamodule import AdaINDataModule\n",
    "from adain_trainer import AdaINTrainer"
   ]
  },
  {
   "cell_type": "code",
   "execution_count": 2,
   "metadata": {},
   "outputs": [
    {
     "name": "stdout",
     "output_type": "stream",
     "text": [
      "Initiating datasets...\n",
      "Compiling the model...\n",
      "Model is ready to be trained\n",
      "Training the model...\n"
     ]
    },
    {
     "data": {
      "text/html": [
       "<pre style=\"white-space:pre;overflow-x:auto;line-height:normal;font-family:Menlo,'DejaVu Sans Mono',consolas,'Courier New',monospace\"></pre>\n"
      ],
      "text/plain": []
     },
     "metadata": {},
     "output_type": "display_data"
    },
    {
     "name": "stdout",
     "output_type": "stream",
     "text": [
      "Epoch 1/12\n",
      "\u001b[1m1000/1000\u001b[0m \u001b[32m━━━━━━━━━━━━━━━━━━━━\u001b[0m\u001b[37m\u001b[0m \u001b[1m708s\u001b[0m 708ms/step - loss: 475793.7500 - val_loss: 297042.4688\n",
      "Epoch 2/12\n",
      "\u001b[1m1000/1000\u001b[0m \u001b[32m━━━━━━━━━━━━━━━━━━━━\u001b[0m\u001b[37m\u001b[0m \u001b[1m785s\u001b[0m 785ms/step - loss: 295255.2500 - val_loss: 279685.3438\n",
      "Epoch 3/12\n",
      "\u001b[1m1000/1000\u001b[0m \u001b[32m━━━━━━━━━━━━━━━━━━━━\u001b[0m\u001b[37m\u001b[0m \u001b[1m1034s\u001b[0m 1s/step - loss: 277585.3125 - val_loss: 270056.7188\n",
      "Epoch 4/12\n",
      "\u001b[1m1000/1000\u001b[0m \u001b[32m━━━━━━━━━━━━━━━━━━━━\u001b[0m\u001b[37m\u001b[0m \u001b[1m909s\u001b[0m 909ms/step - loss: 267751.1875 - val_loss: 271136.6250\n",
      "Epoch 5/12\n",
      "\u001b[1m1000/1000\u001b[0m \u001b[32m━━━━━━━━━━━━━━━━━━━━\u001b[0m\u001b[37m\u001b[0m \u001b[1m1010s\u001b[0m 1s/step - loss: 267000.9062 - val_loss: 263470.9688\n",
      "Epoch 6/12\n",
      "\u001b[1m1000/1000\u001b[0m \u001b[32m━━━━━━━━━━━━━━━━━━━━\u001b[0m\u001b[37m\u001b[0m \u001b[1m1046s\u001b[0m 1s/step - loss: 264715.5625 - val_loss: 264453.4688\n",
      "Epoch 7/12\n",
      "\u001b[1m1000/1000\u001b[0m \u001b[32m━━━━━━━━━━━━━━━━━━━━\u001b[0m\u001b[37m\u001b[0m \u001b[1m1090s\u001b[0m 1s/step - loss: 258512.4219 - val_loss: 262674.2812\n",
      "Epoch 8/12\n",
      "\u001b[1m1000/1000\u001b[0m \u001b[32m━━━━━━━━━━━━━━━━━━━━\u001b[0m\u001b[37m\u001b[0m \u001b[1m859s\u001b[0m 859ms/step - loss: 258848.7656 - val_loss: 251484.6094\n",
      "Epoch 9/12\n",
      "\u001b[1m1000/1000\u001b[0m \u001b[32m━━━━━━━━━━━━━━━━━━━━\u001b[0m\u001b[37m\u001b[0m \u001b[1m501s\u001b[0m 501ms/step - loss: 255104.8281 - val_loss: 251453.2031\n",
      "Epoch 10/12\n",
      "\u001b[1m1000/1000\u001b[0m \u001b[32m━━━━━━━━━━━━━━━━━━━━\u001b[0m\u001b[37m\u001b[0m \u001b[1m490s\u001b[0m 490ms/step - loss: 254655.4688 - val_loss: 251509.2812\n",
      "Epoch 11/12\n",
      "\u001b[1m1000/1000\u001b[0m \u001b[32m━━━━━━━━━━━━━━━━━━━━\u001b[0m\u001b[37m\u001b[0m \u001b[1m491s\u001b[0m 491ms/step - loss: 251325.0156 - val_loss: 251387.5156\n",
      "Epoch 12/12\n",
      "\u001b[1m1000/1000\u001b[0m \u001b[32m━━━━━━━━━━━━━━━━━━━━\u001b[0m\u001b[37m\u001b[0m \u001b[1m491s\u001b[0m 491ms/step - loss: 251639.5000 - val_loss: 251782.9531\n",
      "\u001b[1m125/125\u001b[0m \u001b[32m━━━━━━━━━━━━━━━━━━━━\u001b[0m\u001b[37m\u001b[0m \u001b[1m42s\u001b[0m 339ms/step - loss: 253366.8750\n",
      "Checkpoint reached, model has been logged\n"
     ]
    },
    {
     "data": {
      "text/html": [
       "<pre style=\"white-space:pre;overflow-x:auto;line-height:normal;font-family:Menlo,'DejaVu Sans Mono',consolas,'Courier New',monospace\"></pre>\n"
      ],
      "text/plain": []
     },
     "metadata": {},
     "output_type": "display_data"
    },
    {
     "name": "stdout",
     "output_type": "stream",
     "text": [
      "Epoch 13/24\n",
      "\u001b[1m1000/1000\u001b[0m \u001b[32m━━━━━━━━━━━━━━━━━━━━\u001b[0m\u001b[37m\u001b[0m \u001b[1m487s\u001b[0m 487ms/step - loss: 251425.9062 - val_loss: 247648.4219\n",
      "Epoch 14/24\n",
      "\u001b[1m1000/1000\u001b[0m \u001b[32m━━━━━━━━━━━━━━━━━━━━\u001b[0m\u001b[37m\u001b[0m \u001b[1m487s\u001b[0m 487ms/step - loss: 249630.7188 - val_loss: 254317.0312\n",
      "Epoch 15/24\n",
      "\u001b[1m1000/1000\u001b[0m \u001b[32m━━━━━━━━━━━━━━━━━━━━\u001b[0m\u001b[37m\u001b[0m \u001b[1m486s\u001b[0m 486ms/step - loss: 249498.2188 - val_loss: 243099.6562\n",
      "Epoch 16/24\n",
      "\u001b[1m1000/1000\u001b[0m \u001b[32m━━━━━━━━━━━━━━━━━━━━\u001b[0m\u001b[37m\u001b[0m \u001b[1m487s\u001b[0m 487ms/step - loss: 247953.0000 - val_loss: 242926.5625\n",
      "Epoch 17/24\n",
      "\u001b[1m1000/1000\u001b[0m \u001b[32m━━━━━━━━━━━━━━━━━━━━\u001b[0m\u001b[37m\u001b[0m \u001b[1m487s\u001b[0m 487ms/step - loss: 248684.6562 - val_loss: 243826.3906\n",
      "Epoch 18/24\n",
      "\u001b[1m1000/1000\u001b[0m \u001b[32m━━━━━━━━━━━━━━━━━━━━\u001b[0m\u001b[37m\u001b[0m \u001b[1m487s\u001b[0m 487ms/step - loss: 247771.3594 - val_loss: 248972.9531\n",
      "Epoch 19/24\n",
      "\u001b[1m1000/1000\u001b[0m \u001b[32m━━━━━━━━━━━━━━━━━━━━\u001b[0m\u001b[37m\u001b[0m \u001b[1m487s\u001b[0m 487ms/step - loss: 247514.1250 - val_loss: 241743.2188\n",
      "Epoch 20/24\n",
      "\u001b[1m1000/1000\u001b[0m \u001b[32m━━━━━━━━━━━━━━━━━━━━\u001b[0m\u001b[37m\u001b[0m \u001b[1m486s\u001b[0m 486ms/step - loss: 247637.7500 - val_loss: 249166.0312\n",
      "Epoch 21/24\n",
      "\u001b[1m1000/1000\u001b[0m \u001b[32m━━━━━━━━━━━━━━━━━━━━\u001b[0m\u001b[37m\u001b[0m \u001b[1m487s\u001b[0m 487ms/step - loss: 244690.0625 - val_loss: 244026.3750\n",
      "Epoch 22/24\n",
      "\u001b[1m1000/1000\u001b[0m \u001b[32m━━━━━━━━━━━━━━━━━━━━\u001b[0m\u001b[37m\u001b[0m \u001b[1m488s\u001b[0m 488ms/step - loss: 247980.0938 - val_loss: 244724.0625\n",
      "Epoch 23/24\n",
      "\u001b[1m1000/1000\u001b[0m \u001b[32m━━━━━━━━━━━━━━━━━━━━\u001b[0m\u001b[37m\u001b[0m \u001b[1m485s\u001b[0m 485ms/step - loss: 244450.5000 - val_loss: 245772.5469\n",
      "Epoch 24/24\n",
      "\u001b[1m1000/1000\u001b[0m \u001b[32m━━━━━━━━━━━━━━━━━━━━\u001b[0m\u001b[37m\u001b[0m \u001b[1m488s\u001b[0m 488ms/step - loss: 243628.1562 - val_loss: 239213.9219\n",
      "\u001b[1m125/125\u001b[0m \u001b[32m━━━━━━━━━━━━━━━━━━━━\u001b[0m\u001b[37m\u001b[0m \u001b[1m41s\u001b[0m 332ms/step - loss: 246699.3125\n",
      "Checkpoint reached, model has been logged\n"
     ]
    },
    {
     "data": {
      "text/html": [
       "<pre style=\"white-space:pre;overflow-x:auto;line-height:normal;font-family:Menlo,'DejaVu Sans Mono',consolas,'Courier New',monospace\"></pre>\n"
      ],
      "text/plain": []
     },
     "metadata": {},
     "output_type": "display_data"
    },
    {
     "name": "stdout",
     "output_type": "stream",
     "text": [
      "Epoch 25/36\n",
      "\u001b[1m1000/1000\u001b[0m \u001b[32m━━━━━━━━━━━━━━━━━━━━\u001b[0m\u001b[37m\u001b[0m \u001b[1m488s\u001b[0m 488ms/step - loss: 244018.9688 - val_loss: 245826.5938\n",
      "Epoch 26/36\n",
      "\u001b[1m1000/1000\u001b[0m \u001b[32m━━━━━━━━━━━━━━━━━━━━\u001b[0m\u001b[37m\u001b[0m \u001b[1m489s\u001b[0m 489ms/step - loss: 245107.9062 - val_loss: 247340.7969\n",
      "Epoch 27/36\n",
      "\u001b[1m1000/1000\u001b[0m \u001b[32m━━━━━━━━━━━━━━━━━━━━\u001b[0m\u001b[37m\u001b[0m \u001b[1m487s\u001b[0m 488ms/step - loss: 241484.7812 - val_loss: 240846.5156\n",
      "Epoch 28/36\n",
      "\u001b[1m1000/1000\u001b[0m \u001b[32m━━━━━━━━━━━━━━━━━━━━\u001b[0m\u001b[37m\u001b[0m \u001b[1m489s\u001b[0m 489ms/step - loss: 243772.9375 - val_loss: 241056.4688\n",
      "Epoch 29/36\n",
      "\u001b[1m1000/1000\u001b[0m \u001b[32m━━━━━━━━━━━━━━━━━━━━\u001b[0m\u001b[37m\u001b[0m \u001b[1m488s\u001b[0m 488ms/step - loss: 241402.2031 - val_loss: 238925.8594\n",
      "Epoch 30/36\n",
      "\u001b[1m1000/1000\u001b[0m \u001b[32m━━━━━━━━━━━━━━━━━━━━\u001b[0m\u001b[37m\u001b[0m \u001b[1m488s\u001b[0m 488ms/step - loss: 243240.2656 - val_loss: 239980.3594\n",
      "Epoch 31/36\n",
      "\u001b[1m1000/1000\u001b[0m \u001b[32m━━━━━━━━━━━━━━━━━━━━\u001b[0m\u001b[37m\u001b[0m \u001b[1m488s\u001b[0m 488ms/step - loss: 240488.3906 - val_loss: 241525.2969\n",
      "Epoch 32/36\n",
      "\u001b[1m1000/1000\u001b[0m \u001b[32m━━━━━━━━━━━━━━━━━━━━\u001b[0m\u001b[37m\u001b[0m \u001b[1m488s\u001b[0m 488ms/step - loss: 240699.3125 - val_loss: 240940.1719\n",
      "Epoch 33/36\n",
      "\u001b[1m1000/1000\u001b[0m \u001b[32m━━━━━━━━━━━━━━━━━━━━\u001b[0m\u001b[37m\u001b[0m \u001b[1m489s\u001b[0m 489ms/step - loss: 243233.2344 - val_loss: 239571.0469\n",
      "Epoch 34/36\n",
      "\u001b[1m1000/1000\u001b[0m \u001b[32m━━━━━━━━━━━━━━━━━━━━\u001b[0m\u001b[37m\u001b[0m \u001b[1m487s\u001b[0m 487ms/step - loss: 241902.7188 - val_loss: 238705.5156\n",
      "Epoch 35/36\n",
      "\u001b[1m1000/1000\u001b[0m \u001b[32m━━━━━━━━━━━━━━━━━━━━\u001b[0m\u001b[37m\u001b[0m \u001b[1m489s\u001b[0m 489ms/step - loss: 242111.0625 - val_loss: 242173.8750\n",
      "Epoch 36/36\n",
      "\u001b[1m1000/1000\u001b[0m \u001b[32m━━━━━━━━━━━━━━━━━━━━\u001b[0m\u001b[37m\u001b[0m \u001b[1m487s\u001b[0m 487ms/step - loss: 238826.3125 - val_loss: 238028.4219\n",
      "\u001b[1m125/125\u001b[0m \u001b[32m━━━━━━━━━━━━━━━━━━━━\u001b[0m\u001b[37m\u001b[0m \u001b[1m42s\u001b[0m 334ms/step - loss: 239979.8594\n",
      "Checkpoint reached, model has been logged\n"
     ]
    },
    {
     "data": {
      "text/html": [
       "<pre style=\"white-space:pre;overflow-x:auto;line-height:normal;font-family:Menlo,'DejaVu Sans Mono',consolas,'Courier New',monospace\"></pre>\n"
      ],
      "text/plain": []
     },
     "metadata": {},
     "output_type": "display_data"
    },
    {
     "name": "stdout",
     "output_type": "stream",
     "text": [
      "Epoch 37/48\n",
      "\u001b[1m1000/1000\u001b[0m \u001b[32m━━━━━━━━━━━━━━━━━━━━\u001b[0m\u001b[37m\u001b[0m \u001b[1m486s\u001b[0m 486ms/step - loss: 238253.3281 - val_loss: 238368.8750\n",
      "Epoch 38/48\n",
      "\u001b[1m1000/1000\u001b[0m \u001b[32m━━━━━━━━━━━━━━━━━━━━\u001b[0m\u001b[37m\u001b[0m \u001b[1m485s\u001b[0m 485ms/step - loss: 240922.9531 - val_loss: 245937.1719\n",
      "Epoch 39/48\n",
      "\u001b[1m1000/1000\u001b[0m \u001b[32m━━━━━━━━━━━━━━━━━━━━\u001b[0m\u001b[37m\u001b[0m \u001b[1m487s\u001b[0m 487ms/step - loss: 241824.3906 - val_loss: 242397.8125\n",
      "Epoch 40/48\n",
      "\u001b[1m1000/1000\u001b[0m \u001b[32m━━━━━━━━━━━━━━━━━━━━\u001b[0m\u001b[37m\u001b[0m \u001b[1m488s\u001b[0m 488ms/step - loss: 240416.4844 - val_loss: 237842.9219\n",
      "Epoch 41/48\n",
      "\u001b[1m1000/1000\u001b[0m \u001b[32m━━━━━━━━━━━━━━━━━━━━\u001b[0m\u001b[37m\u001b[0m \u001b[1m489s\u001b[0m 489ms/step - loss: 238523.4531 - val_loss: 242907.8438\n",
      "Epoch 42/48\n",
      "\u001b[1m1000/1000\u001b[0m \u001b[32m━━━━━━━━━━━━━━━━━━━━\u001b[0m\u001b[37m\u001b[0m \u001b[1m489s\u001b[0m 489ms/step - loss: 239356.4219 - val_loss: 244442.6250\n",
      "Epoch 43/48\n",
      "\u001b[1m1000/1000\u001b[0m \u001b[32m━━━━━━━━━━━━━━━━━━━━\u001b[0m\u001b[37m\u001b[0m \u001b[1m488s\u001b[0m 488ms/step - loss: 238367.4844 - val_loss: 235811.8906\n",
      "Epoch 44/48\n",
      "\u001b[1m1000/1000\u001b[0m \u001b[32m━━━━━━━━━━━━━━━━━━━━\u001b[0m\u001b[37m\u001b[0m \u001b[1m488s\u001b[0m 488ms/step - loss: 240395.0625 - val_loss: 240219.5312\n",
      "Epoch 45/48\n",
      "\u001b[1m1000/1000\u001b[0m \u001b[32m━━━━━━━━━━━━━━━━━━━━\u001b[0m\u001b[37m\u001b[0m \u001b[1m486s\u001b[0m 486ms/step - loss: 239362.7969 - val_loss: 237183.2500\n",
      "Epoch 46/48\n",
      "\u001b[1m1000/1000\u001b[0m \u001b[32m━━━━━━━━━━━━━━━━━━━━\u001b[0m\u001b[37m\u001b[0m \u001b[1m488s\u001b[0m 488ms/step - loss: 241067.2656 - val_loss: 235325.0469\n",
      "Epoch 47/48\n",
      "\u001b[1m1000/1000\u001b[0m \u001b[32m━━━━━━━━━━━━━━━━━━━━\u001b[0m\u001b[37m\u001b[0m \u001b[1m489s\u001b[0m 489ms/step - loss: 240210.2656 - val_loss: 238742.4844\n",
      "Epoch 48/48\n",
      "\u001b[1m1000/1000\u001b[0m \u001b[32m━━━━━━━━━━━━━━━━━━━━\u001b[0m\u001b[37m\u001b[0m \u001b[1m489s\u001b[0m 489ms/step - loss: 238650.7188 - val_loss: 238981.8281\n",
      "\u001b[1m125/125\u001b[0m \u001b[32m━━━━━━━━━━━━━━━━━━━━\u001b[0m\u001b[37m\u001b[0m \u001b[1m42s\u001b[0m 337ms/step - loss: 246273.0938\n",
      "Checkpoint reached, model has been logged\n"
     ]
    },
    {
     "data": {
      "text/html": [
       "<pre style=\"white-space:pre;overflow-x:auto;line-height:normal;font-family:Menlo,'DejaVu Sans Mono',consolas,'Courier New',monospace\"></pre>\n"
      ],
      "text/plain": []
     },
     "metadata": {},
     "output_type": "display_data"
    },
    {
     "name": "stdout",
     "output_type": "stream",
     "text": [
      "Epoch 49/60\n",
      "\u001b[1m1000/1000\u001b[0m \u001b[32m━━━━━━━━━━━━━━━━━━━━\u001b[0m\u001b[37m\u001b[0m \u001b[1m487s\u001b[0m 487ms/step - loss: 238814.4844 - val_loss: 240324.0312\n",
      "Epoch 50/60\n",
      "\u001b[1m1000/1000\u001b[0m \u001b[32m━━━━━━━━━━━━━━━━━━━━\u001b[0m\u001b[37m\u001b[0m \u001b[1m475s\u001b[0m 475ms/step - loss: 238959.4062 - val_loss: 242475.3438\n",
      "Epoch 51/60\n",
      "\u001b[1m1000/1000\u001b[0m \u001b[32m━━━━━━━━━━━━━━━━━━━━\u001b[0m\u001b[37m\u001b[0m \u001b[1m477s\u001b[0m 477ms/step - loss: 238443.0938 - val_loss: 238679.2500\n",
      "Epoch 52/60\n",
      "\u001b[1m1000/1000\u001b[0m \u001b[32m━━━━━━━━━━━━━━━━━━━━\u001b[0m\u001b[37m\u001b[0m \u001b[1m477s\u001b[0m 477ms/step - loss: 238051.2188 - val_loss: 243108.2969\n",
      "Epoch 53/60\n",
      "\u001b[1m1000/1000\u001b[0m \u001b[32m━━━━━━━━━━━━━━━━━━━━\u001b[0m\u001b[37m\u001b[0m \u001b[1m478s\u001b[0m 478ms/step - loss: 240185.9844 - val_loss: 238046.6406\n",
      "Epoch 54/60\n",
      "\u001b[1m1000/1000\u001b[0m \u001b[32m━━━━━━━━━━━━━━━━━━━━\u001b[0m\u001b[37m\u001b[0m \u001b[1m478s\u001b[0m 478ms/step - loss: 238198.0625 - val_loss: 243301.1250\n",
      "Epoch 55/60\n",
      "\u001b[1m1000/1000\u001b[0m \u001b[32m━━━━━━━━━━━━━━━━━━━━\u001b[0m\u001b[37m\u001b[0m \u001b[1m478s\u001b[0m 478ms/step - loss: 238757.5312 - val_loss: 234087.8125\n",
      "Epoch 56/60\n",
      "\u001b[1m1000/1000\u001b[0m \u001b[32m━━━━━━━━━━━━━━━━━━━━\u001b[0m\u001b[37m\u001b[0m \u001b[1m478s\u001b[0m 478ms/step - loss: 237817.4688 - val_loss: 237876.5938\n",
      "Epoch 57/60\n",
      "\u001b[1m1000/1000\u001b[0m \u001b[32m━━━━━━━━━━━━━━━━━━━━\u001b[0m\u001b[37m\u001b[0m \u001b[1m478s\u001b[0m 478ms/step - loss: 239420.7031 - val_loss: 242560.0625\n",
      "Epoch 58/60\n",
      "\u001b[1m1000/1000\u001b[0m \u001b[32m━━━━━━━━━━━━━━━━━━━━\u001b[0m\u001b[37m\u001b[0m \u001b[1m478s\u001b[0m 478ms/step - loss: 242431.6719 - val_loss: 243994.4375\n",
      "Epoch 59/60\n",
      "\u001b[1m1000/1000\u001b[0m \u001b[32m━━━━━━━━━━━━━━━━━━━━\u001b[0m\u001b[37m\u001b[0m \u001b[1m479s\u001b[0m 479ms/step - loss: 238749.2031 - val_loss: 232712.5781\n",
      "Epoch 60/60\n",
      "\u001b[1m1000/1000\u001b[0m \u001b[32m━━━━━━━━━━━━━━━━━━━━\u001b[0m\u001b[37m\u001b[0m \u001b[1m480s\u001b[0m 480ms/step - loss: 237270.3125 - val_loss: 238697.6094\n",
      "\u001b[1m125/125\u001b[0m \u001b[32m━━━━━━━━━━━━━━━━━━━━\u001b[0m\u001b[37m\u001b[0m \u001b[1m41s\u001b[0m 325ms/step - loss: 245446.7344\n",
      "Checkpoint reached, model has been logged\n",
      "The training is complete ! The model and its performances have been logged in MLFlow\n"
     ]
    }
   ],
   "source": [
    "dm = AdaINDataModule(Path(\"D:/StyleTransferAI/StyleTransferAI_AdaIN/datasets/unlabeled2017/\"), Path(\"D:/StyleTransferAI/StyleTransferAI_AdaIN/datasets/WikiArt/\"), dataset_size=100000, seed=444, batch_size=8)\n",
    "model = AdaINModel(lamb=0.75)\n",
    "\n",
    "trainer = AdaINTrainer(model, dm, 'adam', mlflow_dir=Path(\"D:/Python/ML Flow/mlruns\"), mlflow_tags={\"Dataset size\" : 100000, \"Real trainging\" : True, \"Total epochs\" : '6 (60 Keras epochs)'})\n",
    "trainer.train(epochs=60, steps_per_epoch=1000, log_every_n_epochs=12, validation_steps=125, test_steps=125)"
   ]
  }
 ],
 "metadata": {
  "kernelspec": {
   "display_name": "StyleTransferAI",
   "language": "python",
   "name": "python3"
  },
  "language_info": {
   "codemirror_mode": {
    "name": "ipython",
    "version": 3
   },
   "file_extension": ".py",
   "mimetype": "text/x-python",
   "name": "python",
   "nbconvert_exporter": "python",
   "pygments_lexer": "ipython3",
   "version": "3.12.2"
  }
 },
 "nbformat": 4,
 "nbformat_minor": 2
}
